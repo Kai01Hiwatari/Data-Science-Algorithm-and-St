{
 "cells": [
  {
   "cell_type": "code",
   "execution_count": 1,
   "metadata": {},
   "outputs": [
    {
     "name": "stdout",
     "output_type": "stream",
     "text": [
      "Hello World\n"
     ]
    }
   ],
   "source": [
    "print(\"Hello\",end=\" \")\n",
    "print(\"World\")"
   ]
  },
  {
   "cell_type": "code",
   "execution_count": 14,
   "metadata": {},
   "outputs": [
    {
     "name": "stdout",
     "output_type": "stream",
     "text": [
      "Enter the words: MOUTh\n",
      "vowel not found\n",
      "o\n",
      "1\n",
      "vowel is found\n",
      "u\n",
      "2\n",
      "vowel is found\n",
      "vowel not found\n",
      "vowel not found\n"
     ]
    }
   ],
   "source": [
    "words=input(\"Enter the words: \")\n",
    "count=0\n",
    "b=words.lower()\n",
    "for x in b:\n",
    "    if x in[\"u\",\"o\",\"i\",\"e\",\"a\"]:\n",
    "        print(x)\n",
    "        count+=1\n",
    "        print(count)\n",
    "        print(\"vowel is found\")\n",
    "    else:\n",
    "        print(\"vowel not found\")\n",
    "\n",
    "        \n",
    "        "
   ]
  },
  {
   "cell_type": "code",
   "execution_count": null,
   "metadata": {},
   "outputs": [],
   "source": []
  }
 ],
 "metadata": {
  "kernelspec": {
   "display_name": "Python 3",
   "language": "python",
   "name": "python3"
  },
  "language_info": {
   "codemirror_mode": {
    "name": "ipython",
    "version": 3
   },
   "file_extension": ".py",
   "mimetype": "text/x-python",
   "name": "python",
   "nbconvert_exporter": "python",
   "pygments_lexer": "ipython3",
   "version": "3.8.5"
  }
 },
 "nbformat": 4,
 "nbformat_minor": 4
}
