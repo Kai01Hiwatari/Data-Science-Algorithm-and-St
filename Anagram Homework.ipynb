{
 "cells": [
  {
   "cell_type": "code",
   "execution_count": 3,
   "id": "04da4750",
   "metadata": {},
   "outputs": [
    {
     "name": "stdout",
     "output_type": "stream",
     "text": [
      "Anagrams Homework\n"
     ]
    }
   ],
   "source": [
    "print(\"Anagrams\",end=\" \")\n",
    "print(\"Homework\")"
   ]
  },
  {
   "cell_type": "code",
   "execution_count": 7,
   "id": "c0683ecf",
   "metadata": {},
   "outputs": [
    {
     "name": "stdout",
     "output_type": "stream",
     "text": [
      "enter the word :create\n",
      "c t e a r e\n"
     ]
    }
   ],
   "source": [
    "a=input(\"enter the word :\")\n",
    "b=list(a)\n",
    "\n",
    "def swapping(list,pos1,pos2):\n",
    "    list[pos1],list[pos2]=list[pos2],list[pos1]\n",
    "    return list\n",
    "swapping(b,-2,1)\n",
    "str=\" \"\n",
    "c=str.join(b)\n",
    "print(c)"
   ]
  },
  {
   "cell_type": "code",
   "execution_count": null,
   "id": "47301102",
   "metadata": {},
   "outputs": [],
   "source": []
  }
 ],
 "metadata": {
  "kernelspec": {
   "display_name": "Python 3 (ipykernel)",
   "language": "python",
   "name": "python3"
  },
  "language_info": {
   "codemirror_mode": {
    "name": "ipython",
    "version": 3
   },
   "file_extension": ".py",
   "mimetype": "text/x-python",
   "name": "python",
   "nbconvert_exporter": "python",
   "pygments_lexer": "ipython3",
   "version": "3.11.4"
  }
 },
 "nbformat": 4,
 "nbformat_minor": 5
}
