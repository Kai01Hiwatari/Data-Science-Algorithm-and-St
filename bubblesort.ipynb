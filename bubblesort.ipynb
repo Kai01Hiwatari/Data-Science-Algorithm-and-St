{
 "cells": [
  {
   "cell_type": "code",
   "execution_count": 5,
   "metadata": {},
   "outputs": [
    {
     "name": "stdout",
     "output_type": "stream",
     "text": [
      "n\n",
      "array('i', [12, 12, 34, 34, 34, 54, 56, 72, 87, 89])\n"
     ]
    }
   ],
   "source": [
    "import array\n",
    "from array import *\n",
    "def bubble_sort(arr):\n",
    "    n=len(arr)\n",
    "    \n",
    "    for i in range (0,n-1):\n",
    "        for j in range (0,n-i-1):\n",
    "            if arr [j]>arr[j+1]:\n",
    "                arr[j],arr[j+1]=arr[j+1],arr[j]\n",
    "                \n",
    "array1=array(\"i\",[34,56,89,12,34,72,12,87,34,54])\n",
    "bubble_sort(array1)\n",
    "print(\"n\")\n",
    "print((array1))"
   ]
  },
  {
   "cell_type": "code",
   "execution_count": 6,
   "metadata": {},
   "outputs": [
    {
     "name": "stdout",
     "output_type": "stream",
     "text": [
      "n\n",
      "array('i', [89, 87, 72, 56, 54, 34, 34, 34, 12, 12])\n"
     ]
    }
   ],
   "source": [
    "import array\n",
    "from array import *\n",
    "def bubble_sort(arr):\n",
    "    n=len(arr)\n",
    "    \n",
    "    for i in range (0,n-1):\n",
    "        for j in range (0,n-i-1):\n",
    "            if arr [j]<arr[j+1]:\n",
    "                arr[j],arr[j+1]=arr[j+1],arr[j]\n",
    "                \n",
    "array1=array(\"i\",[34,56,89,12,34,72,12,87,34,54])\n",
    "bubble_sort(array1)\n",
    "print(\"n\")\n",
    "print((array1))"
   ]
  },
  {
   "cell_type": "code",
   "execution_count": 4,
   "metadata": {},
   "outputs": [
    {
     "name": "stdout",
     "output_type": "stream",
     "text": [
      "array('i', [34, 56, 89, 12, 34])\n",
      "array('i', [72, 12, 87, 34, 54])\n"
     ]
    }
   ],
   "source": [
    "import array\n",
    "from array import *\n",
    "array1=array(\"i\",[34,56,89,12,34,72,12,87,34,54])\n",
    "print(array1[:5])\n",
    "print(array1[5:])"
   ]
  },
  {
   "cell_type": "code",
   "execution_count": null,
   "metadata": {},
   "outputs": [],
   "source": [
    "from array import *\n",
    "arr=array(\"i\",int(input(\"ënter array \")))\n",
    "mid=len(arr)//3\n",
    "print(arr[:3])\n",
    "print(arr[3:6])\n",
    "print(arr[6:])"
   ]
  },
  {
   "cell_type": "code",
   "execution_count": null,
   "metadata": {},
   "outputs": [],
   "source": []
  }
 ],
 "metadata": {
  "kernelspec": {
   "display_name": "Python 3",
   "language": "python",
   "name": "python3"
  },
  "language_info": {
   "codemirror_mode": {
    "name": "ipython",
    "version": 3
   },
   "file_extension": ".py",
   "mimetype": "text/x-python",
   "name": "python",
   "nbconvert_exporter": "python",
   "pygments_lexer": "ipython3",
   "version": "3.8.5"
  }
 },
 "nbformat": 4,
 "nbformat_minor": 4
}
