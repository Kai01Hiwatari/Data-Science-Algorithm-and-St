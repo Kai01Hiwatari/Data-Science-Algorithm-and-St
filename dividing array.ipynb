{
 "cells": [
  {
   "cell_type": "code",
   "execution_count": 1,
   "metadata": {},
   "outputs": [
    {
     "name": "stdout",
     "output_type": "stream",
     "text": [
      "hello world hello world hello world hello world hello world hello world hello world \n"
     ]
    }
   ],
   "source": [
    "print(\"hello world \"*7)"
   ]
  },
  {
   "cell_type": "code",
   "execution_count": 18,
   "metadata": {},
   "outputs": [],
   "source": [
    "import array\n",
    "from array import *"
   ]
  },
  {
   "cell_type": "code",
   "execution_count": 20,
   "metadata": {},
   "outputs": [
    {
     "name": "stdout",
     "output_type": "stream",
     "text": [
      "array('i', [1, 2, 3, 4, 5, 6, 7, 8, 9, 10, 11, 12])\n"
     ]
    }
   ],
   "source": [
    "a=array(\"i\",[1,2,3,4,5,6,7,8,9,10,11,12])\n",
    "print(a)"
   ]
  },
  {
   "cell_type": "code",
   "execution_count": 7,
   "metadata": {},
   "outputs": [
    {
     "data": {
      "text/plain": [
       "12"
      ]
     },
     "execution_count": 7,
     "metadata": {},
     "output_type": "execute_result"
    }
   ],
   "source": [
    "len(a)"
   ]
  },
  {
   "cell_type": "code",
   "execution_count": 8,
   "metadata": {},
   "outputs": [
    {
     "name": "stdout",
     "output_type": "stream",
     "text": [
      "12\n"
     ]
    }
   ],
   "source": [
    "print(len(a))"
   ]
  },
  {
   "cell_type": "code",
   "execution_count": 11,
   "metadata": {},
   "outputs": [
    {
     "data": {
      "text/plain": [
       "6"
      ]
     },
     "execution_count": 11,
     "metadata": {},
     "output_type": "execute_result"
    }
   ],
   "source": [
    "len(a)//2"
   ]
  },
  {
   "cell_type": "code",
   "execution_count": 12,
   "metadata": {},
   "outputs": [
    {
     "name": "stdout",
     "output_type": "stream",
     "text": [
      "array('i', [1, 2, 3, 4, 5, 6])\n",
      "array('i', [7, 8, 9, 10, 11, 12])\n"
     ]
    }
   ],
   "source": [
    "def divide(array):\n",
    "    n = len(arr)\n",
    "    midpoint =  n//2\n",
    "    part1 = arr[:midpoint] \n",
    "    part2 = arr[midpoint:] \n",
    "    print(part1)\n",
    "    print(part2)\n",
    "arr=array('i',[1,2,3,4,5,6,7,8,9,10,11,12])\n",
    "divide(arr)"
   ]
  },
  {
   "cell_type": "code",
   "execution_count": 17,
   "metadata": {},
   "outputs": [
    {
     "name": "stdout",
     "output_type": "stream",
     "text": [
      "array('i', [1, 2, 3, 4, 5, 6])\n",
      "array('i', [7, 8, 9, 10, 11, 12])\n"
     ]
    }
   ],
   "source": [
    "part1 = None\n",
    "part2 = None\n",
    "def divide(array):\n",
    "    global part1,part2\n",
    "    n = len(arr)\n",
    "    midpoint =  n//2\n",
    "    part1 = arr[:midpoint] \n",
    "    part2 = arr[midpoint:] \n",
    "arr=array('i',[1,2,3,4,5,6,7,8,9,10,11,12])\n",
    "divide(arr)\n",
    "print(part1)\n",
    "print(part2)\n"
   ]
  },
  {
   "cell_type": "markdown",
   "metadata": {},
   "source": [
    "# divide the above array into three equal parts.Print the parts"
   ]
  },
  {
   "cell_type": "code",
   "execution_count": 26,
   "metadata": {},
   "outputs": [
    {
     "name": "stdout",
     "output_type": "stream",
     "text": [
      "array('i', [1, 2, 3, 4])\n",
      "array('i', [5, 6, 7, 8])\n",
      "array('i', [9, 10, 11, 12])\n"
     ]
    }
   ],
   "source": [
    "def divide(array):\n",
    "    n=len(arr)\n",
    "    mid= n//3\n",
    "    part1 = arr[:mid]\n",
    "    part2 = arr[mid:2*mid]\n",
    "    part3 = arr[2*mid:]\n",
    "    print(part1)\n",
    "    print(part2)\n",
    "    print(part3)\n",
    "arr=array('i',[1,2,3,4,5,6,7,8,9,10,11,12])\n",
    "divide(arr)\n",
    "    \n",
    "    "
   ]
  },
  {
   "cell_type": "markdown",
   "metadata": {},
   "source": [
    "# divide the above array into four equal parts.Print the parts"
   ]
  },
  {
   "cell_type": "code",
   "execution_count": 29,
   "metadata": {},
   "outputs": [
    {
     "name": "stdout",
     "output_type": "stream",
     "text": [
      "array('i', [1, 2, 3])\n",
      "array('i', [4, 5, 6])\n",
      "array('i', [7, 8, 9])\n",
      "array('i', [10, 11, 12])\n"
     ]
    }
   ],
   "source": [
    "def divide(array):\n",
    "    n=len(arr)\n",
    "    mid=n//4\n",
    "    part1=arr[:mid]\n",
    "    part2=arr[mid:2*mid]\n",
    "    part3=arr[2*mid:3*mid]\n",
    "    part4=arr[3*mid:]\n",
    "    print(part1)\n",
    "    print(part2)\n",
    "    print(part3)\n",
    "    print(part4)\n",
    "arr=array('i',[1,2,3,4,5,6,7,8,9,10,11,12])\n",
    "divide(arr)"
   ]
  },
  {
   "cell_type": "code",
   "execution_count": null,
   "metadata": {},
   "outputs": [],
   "source": []
  },
  {
   "cell_type": "code",
   "execution_count": null,
   "metadata": {},
   "outputs": [],
   "source": []
  },
  {
   "cell_type": "code",
   "execution_count": null,
   "metadata": {},
   "outputs": [],
   "source": []
  },
  {
   "cell_type": "code",
   "execution_count": null,
   "metadata": {},
   "outputs": [],
   "source": []
  }
 ],
 "metadata": {
  "kernelspec": {
   "display_name": "Python 3",
   "language": "python",
   "name": "python3"
  },
  "language_info": {
   "codemirror_mode": {
    "name": "ipython",
    "version": 3
   },
   "file_extension": ".py",
   "mimetype": "text/x-python",
   "name": "python",
   "nbconvert_exporter": "python",
   "pygments_lexer": "ipython3",
   "version": "3.8.5"
  }
 },
 "nbformat": 4,
 "nbformat_minor": 4
}
