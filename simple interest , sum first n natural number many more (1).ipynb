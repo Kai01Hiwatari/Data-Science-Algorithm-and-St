{
 "cells": [
  {
   "cell_type": "code",
   "execution_count": 1,
   "metadata": {},
   "outputs": [
    {
     "name": "stdout",
     "output_type": "stream",
     "text": [
      "hello jupyter\n"
     ]
    }
   ],
   "source": [
    "print(\"hello jupyter\")"
   ]
  },
  {
   "cell_type": "code",
   "execution_count": 37,
   "metadata": {},
   "outputs": [
    {
     "name": "stdout",
     "output_type": "stream",
     "text": [
      "enter the number upto which you want summation :77\n",
      "sum of first n natural number:  3003\n"
     ]
    }
   ],
   "source": [
    "i=1\n",
    "n=int(input(\"enter the number upto which you want summation :\"))\n",
    "sum=0\n",
    "while i<=n:\n",
    "    sum=sum+i\n",
    "    i=i+1\n",
    "print(\"sum of first n natural number: \",sum)"
   ]
  },
  {
   "cell_type": "code",
   "execution_count": 12,
   "metadata": {},
   "outputs": [
    {
     "name": "stdout",
     "output_type": "stream",
     "text": [
      "enter the value of whom you wanted :2\n",
      "given number is positive\n"
     ]
    }
   ],
   "source": [
    "n=int(input(\"enter the value of whom you wanted :\"))\n",
    "if n>0:\n",
    "    print(\"given number is positive\")\n",
    "elif n<0:\n",
    "    print(\"given number is negative\")\n",
    "else:\n",
    "    print(\"given number is zero \")"
   ]
  },
  {
   "cell_type": "code",
   "execution_count": 29,
   "metadata": {},
   "outputs": [
    {
     "name": "stdout",
     "output_type": "stream",
     "text": [
      "enter the number1: 5\n",
      "enter the number2: 6\n",
      "x=  6\n",
      "y= 5\n"
     ]
    }
   ],
   "source": [
    "x=int(input(\"enter the number1: \"))\n",
    "y=int(input(\"enter the number2: \"))\n",
    "\n",
    "a=x\n",
    "x=y\n",
    "y=a\n",
    "print(\"x= \",x)\n",
    "print(\"y=\",y)\n"
   ]
  },
  {
   "cell_type": "code",
   "execution_count": 32,
   "metadata": {},
   "outputs": [
    {
     "name": "stdout",
     "output_type": "stream",
     "text": [
      " enter the no.: 5\n",
      " enter the no. :6\n",
      "x=  6\n",
      "y=  5\n"
     ]
    }
   ],
   "source": [
    "x=int(input(\" enter the no.: \"))\n",
    "y=int(input(\" enter the no. :\"))\n",
    "print(\"x= \",y)\n",
    "print(\"y= \",x)\n"
   ]
  },
  {
   "cell_type": "markdown",
   "metadata": {},
   "source": [
    "###### simple interest formula  "
   ]
  },
  {
   "cell_type": "code",
   "execution_count": 36,
   "metadata": {},
   "outputs": [
    {
     "name": "stdout",
     "output_type": "stream",
     "text": [
      "enter princioal value which is your actuall salary: 4500\n",
      "enter rate of interest on your loan :45\n",
      "enter the duration for which loan is granted 56\n",
      "simple interest =  113400.0\n"
     ]
    }
   ],
   "source": [
    "pi=float(input(\"enter princioal value which is your actuall salary: \"))\n",
    "r=float(input(\"enter rate of interest on your loan :\"))\n",
    "t=float(input(\"enter the duration for which loan is granted \"))\n",
    "s=pi*r*t/100\n",
    "print(\"simple interest = \",s)"
   ]
  },
  {
   "cell_type": "code",
   "execution_count": null,
   "metadata": {},
   "outputs": [],
   "source": []
  },
  {
   "cell_type": "code",
   "execution_count": null,
   "metadata": {},
   "outputs": [],
   "source": []
  },
  {
   "cell_type": "code",
   "execution_count": null,
   "metadata": {},
   "outputs": [],
   "source": []
  },
  {
   "cell_type": "code",
   "execution_count": null,
   "metadata": {},
   "outputs": [],
   "source": []
  },
  {
   "cell_type": "code",
   "execution_count": null,
   "metadata": {},
   "outputs": [],
   "source": []
  },
  {
   "cell_type": "code",
   "execution_count": null,
   "metadata": {},
   "outputs": [],
   "source": []
  },
  {
   "cell_type": "code",
   "execution_count": null,
   "metadata": {},
   "outputs": [],
   "source": []
  },
  {
   "cell_type": "code",
   "execution_count": null,
   "metadata": {},
   "outputs": [],
   "source": []
  },
  {
   "cell_type": "code",
   "execution_count": null,
   "metadata": {},
   "outputs": [],
   "source": []
  },
  {
   "cell_type": "code",
   "execution_count": null,
   "metadata": {},
   "outputs": [],
   "source": []
  },
  {
   "cell_type": "code",
   "execution_count": null,
   "metadata": {},
   "outputs": [],
   "source": []
  }
 ],
 "metadata": {
  "kernelspec": {
   "display_name": "Python 3",
   "language": "python",
   "name": "python3"
  },
  "language_info": {
   "codemirror_mode": {
    "name": "ipython",
    "version": 3
   },
   "file_extension": ".py",
   "mimetype": "text/x-python",
   "name": "python",
   "nbconvert_exporter": "python",
   "pygments_lexer": "ipython3",
   "version": "3.8.5"
  }
 },
 "nbformat": 4,
 "nbformat_minor": 4
}
